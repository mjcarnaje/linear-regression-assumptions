{
 "cells": [
  {
   "cell_type": "code",
   "execution_count": 3,
   "metadata": {},
   "outputs": [],
   "source": [
    "# Multiple Linear Regression\n",
    "\n",
    "#Importing pandas library to read CSV data file\n",
    "import pandas as pd\n",
    "\n",
    "#Importing numpy to perfom math on arrays\n",
    "import numpy as np\n"
   ]
  },
  {
   "cell_type": "code",
   "execution_count": 4,
   "metadata": {},
   "outputs": [],
   "source": [
    "#Reading CSV data file in Python\n",
    "dataset = pd.read_csv('Companies.csv')"
   ]
  },
  {
   "cell_type": "code",
   "execution_count": 5,
   "metadata": {},
   "outputs": [
    {
     "data": {
      "text/html": [
       "<div>\n",
       "<style scoped>\n",
       "    .dataframe tbody tr th:only-of-type {\n",
       "        vertical-align: middle;\n",
       "    }\n",
       "\n",
       "    .dataframe tbody tr th {\n",
       "        vertical-align: top;\n",
       "    }\n",
       "\n",
       "    .dataframe thead th {\n",
       "        text-align: right;\n",
       "    }\n",
       "</style>\n",
       "<table border=\"1\" class=\"dataframe\">\n",
       "  <thead>\n",
       "    <tr style=\"text-align: right;\">\n",
       "      <th></th>\n",
       "      <th>City</th>\n",
       "      <th>IT</th>\n",
       "      <th>Staff_Training</th>\n",
       "      <th>Advertising</th>\n",
       "      <th>Profit</th>\n",
       "    </tr>\n",
       "  </thead>\n",
       "  <tbody>\n",
       "    <tr>\n",
       "      <th>0</th>\n",
       "      <td>Paris</td>\n",
       "      <td>165349.20</td>\n",
       "      <td>236897.80</td>\n",
       "      <td>472784.20</td>\n",
       "      <td>182262.83</td>\n",
       "    </tr>\n",
       "    <tr>\n",
       "      <th>1</th>\n",
       "      <td>Rome</td>\n",
       "      <td>262597.70</td>\n",
       "      <td>182377.59</td>\n",
       "      <td>443898.53</td>\n",
       "      <td>172792.06</td>\n",
       "    </tr>\n",
       "    <tr>\n",
       "      <th>2</th>\n",
       "      <td>Rome</td>\n",
       "      <td>153442.52</td>\n",
       "      <td>172245.55</td>\n",
       "      <td>407934.54</td>\n",
       "      <td>162050.39</td>\n",
       "    </tr>\n",
       "    <tr>\n",
       "      <th>3</th>\n",
       "      <td>Paris</td>\n",
       "      <td>244372.42</td>\n",
       "      <td>138672.85</td>\n",
       "      <td>383299.62</td>\n",
       "      <td>282902.99</td>\n",
       "    </tr>\n",
       "    <tr>\n",
       "      <th>4</th>\n",
       "      <td>Rome</td>\n",
       "      <td>132207.34</td>\n",
       "      <td>92392.77</td>\n",
       "      <td>366268.42</td>\n",
       "      <td>266287.94</td>\n",
       "    </tr>\n",
       "  </tbody>\n",
       "</table>\n",
       "</div>"
      ],
      "text/plain": [
       "    City         IT  Staff_Training  Advertising     Profit\n",
       "0  Paris  165349.20       236897.80    472784.20  182262.83\n",
       "1   Rome  262597.70       182377.59    443898.53  172792.06\n",
       "2   Rome  153442.52       172245.55    407934.54  162050.39\n",
       "3  Paris  244372.42       138672.85    383299.62  282902.99\n",
       "4   Rome  132207.34        92392.77    366268.42  266287.94"
      ]
     },
     "execution_count": 5,
     "metadata": {},
     "output_type": "execute_result"
    }
   ],
   "source": [
    "dataset.head()"
   ]
  },
  {
   "cell_type": "code",
   "execution_count": 6,
   "metadata": {},
   "outputs": [],
   "source": [
    "#Extract matrix of features and target from the dataset \n",
    "X = dataset.iloc[:, :-1].values\n",
    "y = dataset.iloc[:, 4].values"
   ]
  },
  {
   "cell_type": "code",
   "execution_count": 7,
   "metadata": {},
   "outputs": [
    {
     "data": {
      "text/plain": [
       "(array([['Paris', 165349.2, 236897.8, 472784.2],\n",
       "        ['Rome', 262597.7, 182377.59, 443898.53],\n",
       "        ['Rome', 153442.52, 172245.55, 407934.54],\n",
       "        ['Paris', 244372.42, 138672.85, 383299.62],\n",
       "        ['Rome', 132207.34, 92392.77, 366268.42],\n",
       "        ['Paris', 232876.9, 99824.72, 362862.36],\n",
       "        ['Rome', 214625.46, 247298.87, 227726.82],\n",
       "        ['Paris', 220298.23, 155530.06, 323876.68],\n",
       "        ['Paris', 220542.52, 138728.95, 322623.29],\n",
       "        ['Rome', 113334.88, 148679.27, 304982.62],\n",
       "        ['Rome', 182923.08, 220594.22, 229260.95],\n",
       "        ['Rome', 200672.96, 92790.62, 249744.55],\n",
       "        ['Rome', 93863.75, 227320.38, 249839.44],\n",
       "        ['Rome', 92992.39, 235495.07, 252664.93],\n",
       "        ['Paris', 119943.24, 256547.42, 256522.92],\n",
       "        ['Paris', 164523.62, 222626.84, 262776.23],\n",
       "        ['Rome', 78023.22, 222597.55, 264346.06],\n",
       "        ['Paris', 94657.26, 245077.58, 282574.32],\n",
       "        ['Paris', 92749.26, 224275.79, 294929.57],\n",
       "        ['Rome', 76253.86, 223867.3, 298664.47],\n",
       "        ['Paris', 78389.47, 253773.43, 299737.29],\n",
       "        ['Rome', 73994.56, 222782.75, 303329.26],\n",
       "        ['Rome', 67532.53, 205752.03, 304768.73],\n",
       "        ['Paris', 77044.02, 99282.34, 160574.82],\n",
       "        ['Rome', 64664.72, 239553.26, 167962.62],\n",
       "        ['Paris', 75328.87, 244235.98, 184050.07],\n",
       "        ['Paris', 72207.6, 227864.55, 353283.82],\n",
       "        ['Paris', 66052.52, 282645.56, 228248.2],\n",
       "        ['Paris', 65605.48, 253032.06, 117238.38],\n",
       "        ['Paris', 62994.48, 225642.28, 92232.24],\n",
       "        ['Paris', 62236.38, 252702.92, 88228.23],\n",
       "        ['Rome', 63408.86, 229229.62, 46085.25],\n",
       "        ['Paris', 55493.95, 203057.49, 224634.82],\n",
       "        ['Rome', 46426.07, 257693.92, 120797.67],\n",
       "        ['Paris', 46024.02, 85047.44, 205527.64],\n",
       "        ['Paris', 28663.76, 227056.22, 202226.82],\n",
       "        ['Rome', 44069.95, 52283.24, 297029.42],\n",
       "        ['Paris', 20229.59, 65947.93, 285265.2],\n",
       "        ['Rome', 38558.52, 82982.09, 274999.3],\n",
       "        ['Rome', 28754.33, 168546.05, 192795.67],\n",
       "        ['Rome', 27892.92, 84720.77, 264470.72],\n",
       "        ['Rome', 23640.93, 96289.63, 248002.22],\n",
       "        ['Paris', 25505.73, 227382.3, 35534.27],\n",
       "        ['Rome', 22277.74, 254806.24, 28334.72],\n",
       "        ['Paris', 2000.23, 164253.04, 2903.93],\n",
       "        ['Rome', 2325.46, 225826.22, 297224.46],\n",
       "        ['London', 165349.1, 136897.8, 471784.1],\n",
       "        ['Frankfurt', 161597.7, 151377.59, 443898.53],\n",
       "        ['Frankfurt', 153441.51, 101255.55, 407934.54],\n",
       "        ['London', 154371.41, 128671.85, 383199.61],\n",
       "        ['Frankfurt', 151207.34, 91391.77, 366168.41],\n",
       "        ['London', 131876.9, 99815.71, 361861.36],\n",
       "        ['Frankfurt', 134615.46, 157198.87, 127716.81],\n",
       "        ['London', 130198.13, 155530.06, 313876.68],\n",
       "        ['London', 120541.51, 158718.95, 312613.19],\n",
       "        ['Frankfurt', 123334.88, 108679.17, 304981.61],\n",
       "        ['Frankfurt', 101913.08, 120594.12, 129160.95],\n",
       "        ['Frankfurt', 100671.96, 91790.61, 159744.55],\n",
       "        ['Frankfurt', 93863.75, 227310.38, 159839.44],\n",
       "        ['Frankfurt', 91991.39, 135495.07, 151664.93],\n",
       "        ['London', 129943.15, 156547.41, 156512.91],\n",
       "        ['London', 125513.61, 121616.84, 161776.13],\n",
       "        ['Frankfurt', 78013.12, 121597.55, 164346.06],\n",
       "        ['London', 94657.16, 155077.58, 181574.31],\n",
       "        ['London', 91749.16, 125175.79, 194919.57],\n",
       "        ['Frankfurt', 76153.86, 1123867.3, 198664.47],\n",
       "        ['London', 78389.47, 153773.43, 199737.19],\n",
       "        ['Frankfurt', 73994.56, 121781.75, 303319.16],\n",
       "        ['Frankfurt', 67531.53, 105751.03, 304768.73],\n",
       "        ['London', 77044.01, 99181.34, 150574.81],\n",
       "        ['Frankfurt', 64664.71, 139553.16, 137961.61]], dtype=object),\n",
       " array([182262.83, 172792.06, 162050.39, 282902.99, 266287.94, 176992.22,\n",
       "        146222.52, 255752.6 , 153452.77, 249759.96, 246222.95, 244259.4 ,\n",
       "        242585.52, 234307.35, 232602.65, 139927.04, 166992.93, 225370.37,\n",
       "        224266.9 , 228474.03, 282323.02, 120352.25, 208733.99, 208552.04,\n",
       "        207404.34, 205733.54, 205008.32, 203282.38, 202004.64,  99937.59,\n",
       "         97483.56,  97427.84,  96778.92,  96722.8 ,  96479.52,  90708.29,\n",
       "         89949.24,  82229.06,  82005.76,  78239.92,  77798.83,  72498.49,\n",
       "         69758.98,  65200.33,  64926.08,  49490.75, 191261.83, 191791.06,\n",
       "        191050.39, 181901.99, 166187.94, 156991.12, 156121.51, 155751.6 ,\n",
       "        151212.77, 159759.96, 156121.95, 154159.4 , 151585.51, 134307.35,\n",
       "        131601.65, 129917.04, 126991.93, 125370.37, 125166.9 , 128474.03,\n",
       "        121313.01, 120351.15, 108733.99, 108551.04, 107404.34]))"
      ]
     },
     "execution_count": 7,
     "metadata": {},
     "output_type": "execute_result"
    }
   ],
   "source": [
    "X,y"
   ]
  },
  {
   "cell_type": "code",
   "execution_count": 8,
   "metadata": {},
   "outputs": [],
   "source": [
    "# Hotencode categorical data\n",
    "from sklearn.compose import ColumnTransformer\n",
    "from sklearn.preprocessing import OneHotEncoder\n",
    "\n",
    "ct = ColumnTransformer(transformers=[('encoder',OneHotEncoder(), [0])], remainder='passthrough')\n",
    "X = ct.fit_transform(X)"
   ]
  },
  {
   "cell_type": "code",
   "execution_count": 9,
   "metadata": {},
   "outputs": [
    {
     "data": {
      "text/plain": [
       "array([[0.0, 0.0, 1.0, 0.0, 165349.2, 236897.8, 472784.2],\n",
       "       [0.0, 0.0, 0.0, 1.0, 262597.7, 182377.59, 443898.53],\n",
       "       [0.0, 0.0, 0.0, 1.0, 153442.52, 172245.55, 407934.54],\n",
       "       [0.0, 0.0, 1.0, 0.0, 244372.42, 138672.85, 383299.62],\n",
       "       [0.0, 0.0, 0.0, 1.0, 132207.34, 92392.77, 366268.42],\n",
       "       [0.0, 0.0, 1.0, 0.0, 232876.9, 99824.72, 362862.36],\n",
       "       [0.0, 0.0, 0.0, 1.0, 214625.46, 247298.87, 227726.82],\n",
       "       [0.0, 0.0, 1.0, 0.0, 220298.23, 155530.06, 323876.68],\n",
       "       [0.0, 0.0, 1.0, 0.0, 220542.52, 138728.95, 322623.29],\n",
       "       [0.0, 0.0, 0.0, 1.0, 113334.88, 148679.27, 304982.62],\n",
       "       [0.0, 0.0, 0.0, 1.0, 182923.08, 220594.22, 229260.95],\n",
       "       [0.0, 0.0, 0.0, 1.0, 200672.96, 92790.62, 249744.55],\n",
       "       [0.0, 0.0, 0.0, 1.0, 93863.75, 227320.38, 249839.44],\n",
       "       [0.0, 0.0, 0.0, 1.0, 92992.39, 235495.07, 252664.93],\n",
       "       [0.0, 0.0, 1.0, 0.0, 119943.24, 256547.42, 256522.92],\n",
       "       [0.0, 0.0, 1.0, 0.0, 164523.62, 222626.84, 262776.23],\n",
       "       [0.0, 0.0, 0.0, 1.0, 78023.22, 222597.55, 264346.06],\n",
       "       [0.0, 0.0, 1.0, 0.0, 94657.26, 245077.58, 282574.32],\n",
       "       [0.0, 0.0, 1.0, 0.0, 92749.26, 224275.79, 294929.57],\n",
       "       [0.0, 0.0, 0.0, 1.0, 76253.86, 223867.3, 298664.47],\n",
       "       [0.0, 0.0, 1.0, 0.0, 78389.47, 253773.43, 299737.29],\n",
       "       [0.0, 0.0, 0.0, 1.0, 73994.56, 222782.75, 303329.26],\n",
       "       [0.0, 0.0, 0.0, 1.0, 67532.53, 205752.03, 304768.73],\n",
       "       [0.0, 0.0, 1.0, 0.0, 77044.02, 99282.34, 160574.82],\n",
       "       [0.0, 0.0, 0.0, 1.0, 64664.72, 239553.26, 167962.62],\n",
       "       [0.0, 0.0, 1.0, 0.0, 75328.87, 244235.98, 184050.07],\n",
       "       [0.0, 0.0, 1.0, 0.0, 72207.6, 227864.55, 353283.82],\n",
       "       [0.0, 0.0, 1.0, 0.0, 66052.52, 282645.56, 228248.2],\n",
       "       [0.0, 0.0, 1.0, 0.0, 65605.48, 253032.06, 117238.38],\n",
       "       [0.0, 0.0, 1.0, 0.0, 62994.48, 225642.28, 92232.24],\n",
       "       [0.0, 0.0, 1.0, 0.0, 62236.38, 252702.92, 88228.23],\n",
       "       [0.0, 0.0, 0.0, 1.0, 63408.86, 229229.62, 46085.25],\n",
       "       [0.0, 0.0, 1.0, 0.0, 55493.95, 203057.49, 224634.82],\n",
       "       [0.0, 0.0, 0.0, 1.0, 46426.07, 257693.92, 120797.67],\n",
       "       [0.0, 0.0, 1.0, 0.0, 46024.02, 85047.44, 205527.64],\n",
       "       [0.0, 0.0, 1.0, 0.0, 28663.76, 227056.22, 202226.82],\n",
       "       [0.0, 0.0, 0.0, 1.0, 44069.95, 52283.24, 297029.42],\n",
       "       [0.0, 0.0, 1.0, 0.0, 20229.59, 65947.93, 285265.2],\n",
       "       [0.0, 0.0, 0.0, 1.0, 38558.52, 82982.09, 274999.3],\n",
       "       [0.0, 0.0, 0.0, 1.0, 28754.33, 168546.05, 192795.67],\n",
       "       [0.0, 0.0, 0.0, 1.0, 27892.92, 84720.77, 264470.72],\n",
       "       [0.0, 0.0, 0.0, 1.0, 23640.93, 96289.63, 248002.22],\n",
       "       [0.0, 0.0, 1.0, 0.0, 25505.73, 227382.3, 35534.27],\n",
       "       [0.0, 0.0, 0.0, 1.0, 22277.74, 254806.24, 28334.72],\n",
       "       [0.0, 0.0, 1.0, 0.0, 2000.23, 164253.04, 2903.93],\n",
       "       [0.0, 0.0, 0.0, 1.0, 2325.46, 225826.22, 297224.46],\n",
       "       [0.0, 1.0, 0.0, 0.0, 165349.1, 136897.8, 471784.1],\n",
       "       [1.0, 0.0, 0.0, 0.0, 161597.7, 151377.59, 443898.53],\n",
       "       [1.0, 0.0, 0.0, 0.0, 153441.51, 101255.55, 407934.54],\n",
       "       [0.0, 1.0, 0.0, 0.0, 154371.41, 128671.85, 383199.61],\n",
       "       [1.0, 0.0, 0.0, 0.0, 151207.34, 91391.77, 366168.41],\n",
       "       [0.0, 1.0, 0.0, 0.0, 131876.9, 99815.71, 361861.36],\n",
       "       [1.0, 0.0, 0.0, 0.0, 134615.46, 157198.87, 127716.81],\n",
       "       [0.0, 1.0, 0.0, 0.0, 130198.13, 155530.06, 313876.68],\n",
       "       [0.0, 1.0, 0.0, 0.0, 120541.51, 158718.95, 312613.19],\n",
       "       [1.0, 0.0, 0.0, 0.0, 123334.88, 108679.17, 304981.61],\n",
       "       [1.0, 0.0, 0.0, 0.0, 101913.08, 120594.12, 129160.95],\n",
       "       [1.0, 0.0, 0.0, 0.0, 100671.96, 91790.61, 159744.55],\n",
       "       [1.0, 0.0, 0.0, 0.0, 93863.75, 227310.38, 159839.44],\n",
       "       [1.0, 0.0, 0.0, 0.0, 91991.39, 135495.07, 151664.93],\n",
       "       [0.0, 1.0, 0.0, 0.0, 129943.15, 156547.41, 156512.91],\n",
       "       [0.0, 1.0, 0.0, 0.0, 125513.61, 121616.84, 161776.13],\n",
       "       [1.0, 0.0, 0.0, 0.0, 78013.12, 121597.55, 164346.06],\n",
       "       [0.0, 1.0, 0.0, 0.0, 94657.16, 155077.58, 181574.31],\n",
       "       [0.0, 1.0, 0.0, 0.0, 91749.16, 125175.79, 194919.57],\n",
       "       [1.0, 0.0, 0.0, 0.0, 76153.86, 1123867.3, 198664.47],\n",
       "       [0.0, 1.0, 0.0, 0.0, 78389.47, 153773.43, 199737.19],\n",
       "       [1.0, 0.0, 0.0, 0.0, 73994.56, 121781.75, 303319.16],\n",
       "       [1.0, 0.0, 0.0, 0.0, 67531.53, 105751.03, 304768.73],\n",
       "       [0.0, 1.0, 0.0, 0.0, 77044.01, 99181.34, 150574.81],\n",
       "       [1.0, 0.0, 0.0, 0.0, 64664.71, 139553.16, 137961.61]], dtype=object)"
      ]
     },
     "execution_count": 9,
     "metadata": {},
     "output_type": "execute_result"
    }
   ],
   "source": [
    "X"
   ]
  },
  {
   "cell_type": "code",
   "execution_count": 10,
   "metadata": {},
   "outputs": [],
   "source": [
    "#Avoid the dummy variable trap\n",
    "X = X[:, 1:]"
   ]
  },
  {
   "cell_type": "code",
   "execution_count": 11,
   "metadata": {},
   "outputs": [
    {
     "data": {
      "text/plain": [
       "array([[0.0, 1.0, 0.0, 165349.2, 236897.8, 472784.2],\n",
       "       [0.0, 0.0, 1.0, 262597.7, 182377.59, 443898.53],\n",
       "       [0.0, 0.0, 1.0, 153442.52, 172245.55, 407934.54],\n",
       "       [0.0, 1.0, 0.0, 244372.42, 138672.85, 383299.62],\n",
       "       [0.0, 0.0, 1.0, 132207.34, 92392.77, 366268.42],\n",
       "       [0.0, 1.0, 0.0, 232876.9, 99824.72, 362862.36],\n",
       "       [0.0, 0.0, 1.0, 214625.46, 247298.87, 227726.82],\n",
       "       [0.0, 1.0, 0.0, 220298.23, 155530.06, 323876.68],\n",
       "       [0.0, 1.0, 0.0, 220542.52, 138728.95, 322623.29],\n",
       "       [0.0, 0.0, 1.0, 113334.88, 148679.27, 304982.62],\n",
       "       [0.0, 0.0, 1.0, 182923.08, 220594.22, 229260.95],\n",
       "       [0.0, 0.0, 1.0, 200672.96, 92790.62, 249744.55],\n",
       "       [0.0, 0.0, 1.0, 93863.75, 227320.38, 249839.44],\n",
       "       [0.0, 0.0, 1.0, 92992.39, 235495.07, 252664.93],\n",
       "       [0.0, 1.0, 0.0, 119943.24, 256547.42, 256522.92],\n",
       "       [0.0, 1.0, 0.0, 164523.62, 222626.84, 262776.23],\n",
       "       [0.0, 0.0, 1.0, 78023.22, 222597.55, 264346.06],\n",
       "       [0.0, 1.0, 0.0, 94657.26, 245077.58, 282574.32],\n",
       "       [0.0, 1.0, 0.0, 92749.26, 224275.79, 294929.57],\n",
       "       [0.0, 0.0, 1.0, 76253.86, 223867.3, 298664.47],\n",
       "       [0.0, 1.0, 0.0, 78389.47, 253773.43, 299737.29],\n",
       "       [0.0, 0.0, 1.0, 73994.56, 222782.75, 303329.26],\n",
       "       [0.0, 0.0, 1.0, 67532.53, 205752.03, 304768.73],\n",
       "       [0.0, 1.0, 0.0, 77044.02, 99282.34, 160574.82],\n",
       "       [0.0, 0.0, 1.0, 64664.72, 239553.26, 167962.62],\n",
       "       [0.0, 1.0, 0.0, 75328.87, 244235.98, 184050.07],\n",
       "       [0.0, 1.0, 0.0, 72207.6, 227864.55, 353283.82],\n",
       "       [0.0, 1.0, 0.0, 66052.52, 282645.56, 228248.2],\n",
       "       [0.0, 1.0, 0.0, 65605.48, 253032.06, 117238.38],\n",
       "       [0.0, 1.0, 0.0, 62994.48, 225642.28, 92232.24],\n",
       "       [0.0, 1.0, 0.0, 62236.38, 252702.92, 88228.23],\n",
       "       [0.0, 0.0, 1.0, 63408.86, 229229.62, 46085.25],\n",
       "       [0.0, 1.0, 0.0, 55493.95, 203057.49, 224634.82],\n",
       "       [0.0, 0.0, 1.0, 46426.07, 257693.92, 120797.67],\n",
       "       [0.0, 1.0, 0.0, 46024.02, 85047.44, 205527.64],\n",
       "       [0.0, 1.0, 0.0, 28663.76, 227056.22, 202226.82],\n",
       "       [0.0, 0.0, 1.0, 44069.95, 52283.24, 297029.42],\n",
       "       [0.0, 1.0, 0.0, 20229.59, 65947.93, 285265.2],\n",
       "       [0.0, 0.0, 1.0, 38558.52, 82982.09, 274999.3],\n",
       "       [0.0, 0.0, 1.0, 28754.33, 168546.05, 192795.67],\n",
       "       [0.0, 0.0, 1.0, 27892.92, 84720.77, 264470.72],\n",
       "       [0.0, 0.0, 1.0, 23640.93, 96289.63, 248002.22],\n",
       "       [0.0, 1.0, 0.0, 25505.73, 227382.3, 35534.27],\n",
       "       [0.0, 0.0, 1.0, 22277.74, 254806.24, 28334.72],\n",
       "       [0.0, 1.0, 0.0, 2000.23, 164253.04, 2903.93],\n",
       "       [0.0, 0.0, 1.0, 2325.46, 225826.22, 297224.46],\n",
       "       [1.0, 0.0, 0.0, 165349.1, 136897.8, 471784.1],\n",
       "       [0.0, 0.0, 0.0, 161597.7, 151377.59, 443898.53],\n",
       "       [0.0, 0.0, 0.0, 153441.51, 101255.55, 407934.54],\n",
       "       [1.0, 0.0, 0.0, 154371.41, 128671.85, 383199.61],\n",
       "       [0.0, 0.0, 0.0, 151207.34, 91391.77, 366168.41],\n",
       "       [1.0, 0.0, 0.0, 131876.9, 99815.71, 361861.36],\n",
       "       [0.0, 0.0, 0.0, 134615.46, 157198.87, 127716.81],\n",
       "       [1.0, 0.0, 0.0, 130198.13, 155530.06, 313876.68],\n",
       "       [1.0, 0.0, 0.0, 120541.51, 158718.95, 312613.19],\n",
       "       [0.0, 0.0, 0.0, 123334.88, 108679.17, 304981.61],\n",
       "       [0.0, 0.0, 0.0, 101913.08, 120594.12, 129160.95],\n",
       "       [0.0, 0.0, 0.0, 100671.96, 91790.61, 159744.55],\n",
       "       [0.0, 0.0, 0.0, 93863.75, 227310.38, 159839.44],\n",
       "       [0.0, 0.0, 0.0, 91991.39, 135495.07, 151664.93],\n",
       "       [1.0, 0.0, 0.0, 129943.15, 156547.41, 156512.91],\n",
       "       [1.0, 0.0, 0.0, 125513.61, 121616.84, 161776.13],\n",
       "       [0.0, 0.0, 0.0, 78013.12, 121597.55, 164346.06],\n",
       "       [1.0, 0.0, 0.0, 94657.16, 155077.58, 181574.31],\n",
       "       [1.0, 0.0, 0.0, 91749.16, 125175.79, 194919.57],\n",
       "       [0.0, 0.0, 0.0, 76153.86, 1123867.3, 198664.47],\n",
       "       [1.0, 0.0, 0.0, 78389.47, 153773.43, 199737.19],\n",
       "       [0.0, 0.0, 0.0, 73994.56, 121781.75, 303319.16],\n",
       "       [0.0, 0.0, 0.0, 67531.53, 105751.03, 304768.73],\n",
       "       [1.0, 0.0, 0.0, 77044.01, 99181.34, 150574.81],\n",
       "       [0.0, 0.0, 0.0, 64664.71, 139553.16, 137961.61]], dtype=object)"
      ]
     },
     "execution_count": 11,
     "metadata": {},
     "output_type": "execute_result"
    }
   ],
   "source": [
    "X"
   ]
  },
  {
   "cell_type": "code",
   "execution_count": 12,
   "metadata": {},
   "outputs": [],
   "source": [
    "# Splitting dataset into Training set and Test set\n",
    "from sklearn.model_selection import train_test_split\n",
    "X_train,X_test,y_train, y_test = train_test_split(X,y,test_size=0.2,random_state=0)"
   ]
  },
  {
   "cell_type": "code",
   "execution_count": 13,
   "metadata": {},
   "outputs": [
    {
     "data": {
      "text/plain": [
       "array([[0.0, 1.0, 0.0, 72207.6, 227864.55, 353283.82],\n",
       "       [0.0, 1.0, 0.0, 66052.52, 282645.56, 228248.2],\n",
       "       [0.0, 0.0, 0.0, 153441.51, 101255.55, 407934.54],\n",
       "       [0.0, 0.0, 1.0, 67532.53, 205752.03, 304768.73],\n",
       "       [0.0, 1.0, 0.0, 62236.38, 252702.92, 88228.23],\n",
       "       [1.0, 0.0, 0.0, 131876.9, 99815.71, 361861.36],\n",
       "       [0.0, 1.0, 0.0, 220298.23, 155530.06, 323876.68],\n",
       "       [0.0, 0.0, 0.0, 91991.39, 135495.07, 151664.93],\n",
       "       [0.0, 1.0, 0.0, 46024.02, 85047.44, 205527.64],\n",
       "       [0.0, 0.0, 0.0, 64664.71, 139553.16, 137961.61],\n",
       "       [0.0, 0.0, 0.0, 101913.08, 120594.12, 129160.95],\n",
       "       [0.0, 1.0, 0.0, 65605.48, 253032.06, 117238.38],\n",
       "       [0.0, 0.0, 1.0, 63408.86, 229229.62, 46085.25],\n",
       "       [0.0, 1.0, 0.0, 25505.73, 227382.3, 35534.27],\n",
       "       [0.0, 0.0, 1.0, 46426.07, 257693.92, 120797.67]], dtype=object)"
      ]
     },
     "execution_count": 13,
     "metadata": {},
     "output_type": "execute_result"
    }
   ],
   "source": [
    "X_test"
   ]
  },
  {
   "cell_type": "code",
   "execution_count": 14,
   "metadata": {},
   "outputs": [
    {
     "data": {
      "text/html": [
       "<style>#sk-container-id-1 {color: black;background-color: white;}#sk-container-id-1 pre{padding: 0;}#sk-container-id-1 div.sk-toggleable {background-color: white;}#sk-container-id-1 label.sk-toggleable__label {cursor: pointer;display: block;width: 100%;margin-bottom: 0;padding: 0.3em;box-sizing: border-box;text-align: center;}#sk-container-id-1 label.sk-toggleable__label-arrow:before {content: \"▸\";float: left;margin-right: 0.25em;color: #696969;}#sk-container-id-1 label.sk-toggleable__label-arrow:hover:before {color: black;}#sk-container-id-1 div.sk-estimator:hover label.sk-toggleable__label-arrow:before {color: black;}#sk-container-id-1 div.sk-toggleable__content {max-height: 0;max-width: 0;overflow: hidden;text-align: left;background-color: #f0f8ff;}#sk-container-id-1 div.sk-toggleable__content pre {margin: 0.2em;color: black;border-radius: 0.25em;background-color: #f0f8ff;}#sk-container-id-1 input.sk-toggleable__control:checked~div.sk-toggleable__content {max-height: 200px;max-width: 100%;overflow: auto;}#sk-container-id-1 input.sk-toggleable__control:checked~label.sk-toggleable__label-arrow:before {content: \"▾\";}#sk-container-id-1 div.sk-estimator input.sk-toggleable__control:checked~label.sk-toggleable__label {background-color: #d4ebff;}#sk-container-id-1 div.sk-label input.sk-toggleable__control:checked~label.sk-toggleable__label {background-color: #d4ebff;}#sk-container-id-1 input.sk-hidden--visually {border: 0;clip: rect(1px 1px 1px 1px);clip: rect(1px, 1px, 1px, 1px);height: 1px;margin: -1px;overflow: hidden;padding: 0;position: absolute;width: 1px;}#sk-container-id-1 div.sk-estimator {font-family: monospace;background-color: #f0f8ff;border: 1px dotted black;border-radius: 0.25em;box-sizing: border-box;margin-bottom: 0.5em;}#sk-container-id-1 div.sk-estimator:hover {background-color: #d4ebff;}#sk-container-id-1 div.sk-parallel-item::after {content: \"\";width: 100%;border-bottom: 1px solid gray;flex-grow: 1;}#sk-container-id-1 div.sk-label:hover label.sk-toggleable__label {background-color: #d4ebff;}#sk-container-id-1 div.sk-serial::before {content: \"\";position: absolute;border-left: 1px solid gray;box-sizing: border-box;top: 0;bottom: 0;left: 50%;z-index: 0;}#sk-container-id-1 div.sk-serial {display: flex;flex-direction: column;align-items: center;background-color: white;padding-right: 0.2em;padding-left: 0.2em;position: relative;}#sk-container-id-1 div.sk-item {position: relative;z-index: 1;}#sk-container-id-1 div.sk-parallel {display: flex;align-items: stretch;justify-content: center;background-color: white;position: relative;}#sk-container-id-1 div.sk-item::before, #sk-container-id-1 div.sk-parallel-item::before {content: \"\";position: absolute;border-left: 1px solid gray;box-sizing: border-box;top: 0;bottom: 0;left: 50%;z-index: -1;}#sk-container-id-1 div.sk-parallel-item {display: flex;flex-direction: column;z-index: 1;position: relative;background-color: white;}#sk-container-id-1 div.sk-parallel-item:first-child::after {align-self: flex-end;width: 50%;}#sk-container-id-1 div.sk-parallel-item:last-child::after {align-self: flex-start;width: 50%;}#sk-container-id-1 div.sk-parallel-item:only-child::after {width: 0;}#sk-container-id-1 div.sk-dashed-wrapped {border: 1px dashed gray;margin: 0 0.4em 0.5em 0.4em;box-sizing: border-box;padding-bottom: 0.4em;background-color: white;}#sk-container-id-1 div.sk-label label {font-family: monospace;font-weight: bold;display: inline-block;line-height: 1.2em;}#sk-container-id-1 div.sk-label-container {text-align: center;}#sk-container-id-1 div.sk-container {/* jupyter's `normalize.less` sets `[hidden] { display: none; }` but bootstrap.min.css set `[hidden] { display: none !important; }` so we also need the `!important` here to be able to override the default hidden behavior on the sphinx rendered scikit-learn.org. See: https://github.com/scikit-learn/scikit-learn/issues/21755 */display: inline-block !important;position: relative;}#sk-container-id-1 div.sk-text-repr-fallback {display: none;}</style><div id=\"sk-container-id-1\" class=\"sk-top-container\"><div class=\"sk-text-repr-fallback\"><pre>LinearRegression()</pre><b>In a Jupyter environment, please rerun this cell to show the HTML representation or trust the notebook. <br />On GitHub, the HTML representation is unable to render, please try loading this page with nbviewer.org.</b></div><div class=\"sk-container\" hidden><div class=\"sk-item\"><div class=\"sk-estimator sk-toggleable\"><input class=\"sk-toggleable__control sk-hidden--visually\" id=\"sk-estimator-id-1\" type=\"checkbox\" checked><label for=\"sk-estimator-id-1\" class=\"sk-toggleable__label sk-toggleable__label-arrow\">LinearRegression</label><div class=\"sk-toggleable__content\"><pre>LinearRegression()</pre></div></div></div></div></div>"
      ],
      "text/plain": [
       "LinearRegression()"
      ]
     },
     "execution_count": 14,
     "metadata": {},
     "output_type": "execute_result"
    }
   ],
   "source": [
    "# Build the regression and fit the data\n",
    "from sklearn.linear_model import LinearRegression\n",
    "reg = LinearRegression()\n",
    "\n",
    "reg.fit(X_train,y_train)"
   ]
  },
  {
   "cell_type": "code",
   "execution_count": 15,
   "metadata": {},
   "outputs": [],
   "source": [
    "# Predict the target values\n",
    "y_pred = reg.predict(X_test)"
   ]
  },
  {
   "cell_type": "code",
   "execution_count": 16,
   "metadata": {
    "scrolled": true
   },
   "outputs": [
    {
     "data": {
      "text/plain": [
       "array([161744.57499315, 152122.99084524, 175953.31833415, 149343.50463647,\n",
       "       139465.28655245, 155808.27674398, 231309.33856501, 128802.45927305,\n",
       "       133096.30058171, 114303.02581528, 131675.06619122, 143160.93614641,\n",
       "       130384.7281503 , 116466.32634479, 128065.16841275])"
      ]
     },
     "execution_count": 16,
     "metadata": {},
     "output_type": "execute_result"
    }
   ],
   "source": [
    "y_pred"
   ]
  },
  {
   "cell_type": "code",
   "execution_count": 17,
   "metadata": {},
   "outputs": [
    {
     "name": "stdout",
     "output_type": "stream",
     "text": [
      "[[161744.57 205008.32]\n",
      " [152122.99 203282.38]\n",
      " [175953.32 191050.39]\n",
      " [149343.5  208733.99]\n",
      " [139465.29  97483.56]\n",
      " [155808.28 156991.12]\n",
      " [231309.34 255752.6 ]\n",
      " [128802.46 134307.35]\n",
      " [133096.3   96479.52]\n",
      " [114303.03 107404.34]\n",
      " [131675.07 156121.95]\n",
      " [143160.94 202004.64]\n",
      " [130384.73  97427.84]\n",
      " [116466.33  69758.98]\n",
      " [128065.17  96722.8 ]]\n"
     ]
    }
   ],
   "source": [
    "np.set_printoptions(precision=2)\n",
    "print(np.concatenate((y_pred.reshape(len(y_pred),1), y_test.reshape(len(y_test),1)),1))"
   ]
  },
  {
   "cell_type": "code",
   "execution_count": 18,
   "metadata": {},
   "outputs": [
    {
     "data": {
      "text/plain": [
       "0.5445175816109233"
      ]
     },
     "execution_count": 18,
     "metadata": {},
     "output_type": "execute_result"
    }
   ],
   "source": [
    "# Check the model accuracy \n",
    "from sklearn.metrics import r2_score\n",
    "\n",
    "r2_score(y_test, y_pred)"
   ]
  }
 ],
 "metadata": {
  "kernelspec": {
   "display_name": "Python 3",
   "language": "python",
   "name": "python3"
  },
  "language_info": {
   "codemirror_mode": {
    "name": "ipython",
    "version": 3
   },
   "file_extension": ".py",
   "mimetype": "text/x-python",
   "name": "python",
   "nbconvert_exporter": "python",
   "pygments_lexer": "ipython3",
   "version": "3.9.6"
  }
 },
 "nbformat": 4,
 "nbformat_minor": 4
}
